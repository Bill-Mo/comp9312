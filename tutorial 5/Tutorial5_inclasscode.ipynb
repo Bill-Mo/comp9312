{
  "cells": [
    {
      "cell_type": "markdown",
      "metadata": {
        "id": "2UbTh2Fz588K"
      },
      "source": [
        "# **PyTorch Basics**\n",
        "\n",
        "[PyTorch](https://pytorch.org/docs/stable/index.html) is an open source machine learning framework in Python. It allows tensor computation with GPU (graphics processing units) and gradients computations. A tensor is basically a multidimensional array. For example, a 1-D tensor is a **vector** and a 2-D tensor is a **matrix**. \n",
        "In this tutorial, we first go through the basic tensor operations. \n",
        "<!-- GPU is more specially designed for tasks like matrix multiplication.  -->\n"
      ]
    },
    {
      "cell_type": "code",
      "execution_count": 1,
      "metadata": {
        "id": "bNlrN7D354xM"
      },
      "outputs": [],
      "source": [
        "import torch\n",
        "import torch.nn as nn\n",
        "import numpy as np"
      ]
    },
    {
      "cell_type": "code",
      "execution_count": 2,
      "metadata": {
        "colab": {
          "base_uri": "https://localhost:8080/"
        },
        "id": "BKYLRjWp6RDa",
        "outputId": "c654d06b-60a1-4467-9862-8978df8b5b90"
      },
      "outputs": [
        {
          "name": "stdout",
          "output_type": "stream",
          "text": [
            "tensor([[5, 2],\n",
            "        [0, 1],\n",
            "        [6, 8]]) has data type torch.int64\n"
          ]
        }
      ],
      "source": [
        "# Initialize a tensor from a list\n",
        "list_ = [\n",
        "         [5 ,2],\n",
        "         [0, 1],\n",
        "         [6, 8] # what if I add a 5 here\n",
        "        ]\n",
        "t1 = torch.tensor(list_)\n",
        "print(\"{} has data type {}\".format(t1, t1.dtype))"
      ]
    },
    {
      "cell_type": "code",
      "execution_count": null,
      "metadata": {
        "colab": {
          "base_uri": "https://localhost:8080/"
        },
        "id": "jSaZPW7g6UHq",
        "outputId": "9872e59f-5f32-4f5a-cc2d-dcc337e46b9c"
      },
      "outputs": [
        {
          "name": "stdout",
          "output_type": "stream",
          "text": [
            "tensor([[5., 2.],\n",
            "        [0., 1.],\n",
            "        [6., 8.]]) has data type torch.float32\n"
          ]
        }
      ],
      "source": [
        "# initialize by specifying the data type:\n",
        "t1 = torch.tensor(list_, dtype = torch.float)\n",
        "print(\"{} has data type {}\".format(t1, t1.dtype))"
      ]
    },
    {
      "cell_type": "code",
      "execution_count": null,
      "metadata": {
        "colab": {
          "base_uri": "https://localhost:8080/"
        },
        "id": "jmJWrd6v6XlJ",
        "outputId": "0bf48a1e-ef80-47ea-ddbd-9334ffa2612f"
      },
      "outputs": [
        {
          "name": "stdout",
          "output_type": "stream",
          "text": [
            "tensor([[ True,  True],\n",
            "        [False,  True],\n",
            "        [ True,  True]]) has data type torch.bool\n"
          ]
        }
      ],
      "source": [
        "# what if I convert it into Bool\n",
        "t1 = torch.tensor(list_, dtype = torch.bool)\n",
        "# it basically checks if an entry is zero\n",
        "print(\"{} has data type {}\".format(t1, t1.dtype))"
      ]
    },
    {
      "cell_type": "code",
      "execution_count": null,
      "metadata": {
        "colab": {
          "base_uri": "https://localhost:8080/"
        },
        "id": "CesbPvnc6ayS",
        "outputId": "892b3d8c-b7ee-460a-9196-88b2a520cc6c"
      },
      "outputs": [
        {
          "name": "stdout",
          "output_type": "stream",
          "text": [
            "tensor([[5, 2],\n",
            "        [0, 1],\n",
            "        [6, 8]])\n"
          ]
        }
      ],
      "source": [
        "# PyTorch is designed to mimic the behavior of the classic package numpy. \n",
        "# Thus, it surely can intialize a tensor from a NumPy array. \n",
        "array_ = np.array(list_)\n",
        "tensor_from_array = torch.from_numpy(array_)\n",
        "print(tensor_from_array)"
      ]
    },
    {
      "cell_type": "code",
      "execution_count": null,
      "metadata": {
        "colab": {
          "base_uri": "https://localhost:8080/"
        },
        "id": "uSOaewCt6enp",
        "outputId": "c94811f8-18cb-4b78-c8a8-bd1412746dfa"
      },
      "outputs": [
        {
          "name": "stdout",
          "output_type": "stream",
          "text": [
            "GPU is available\n"
          ]
        },
        {
          "data": {
            "text/plain": [
              "device(type='cpu')"
            ]
          },
          "execution_count": 38,
          "metadata": {},
          "output_type": "execute_result"
        }
      ],
      "source": [
        "# tensor_from_array.device\n",
        "if torch.cuda.is_available():\n",
        "  print(\"GPU is available\")\n",
        "  tensor_from_array.to('cuda')\n",
        "tensor_from_array.device\n",
        "# this above line is problematic"
      ]
    },
    {
      "cell_type": "code",
      "execution_count": null,
      "metadata": {
        "colab": {
          "base_uri": "https://localhost:8080/"
        },
        "id": "coQLdvdA6f9J",
        "outputId": "427a2c63-cfb7-4231-de62-fc915840b3c3"
      },
      "outputs": [
        {
          "data": {
            "text/plain": [
              "tensor([[[1., 1.],\n",
              "         [1., 1.],\n",
              "         [1., 1.]],\n",
              "\n",
              "        [[1., 1.],\n",
              "         [1., 1.],\n",
              "         [1., 1.]],\n",
              "\n",
              "        [[1., 1.],\n",
              "         [1., 1.],\n",
              "         [1., 1.]],\n",
              "\n",
              "        [[1., 1.],\n",
              "         [1., 1.],\n",
              "         [1., 1.]]])"
            ]
          },
          "execution_count": 39,
          "metadata": {},
          "output_type": "execute_result"
        }
      ],
      "source": [
        "# tensor operations\n",
        "torch.ones((4, 3, 2))"
      ]
    },
    {
      "cell_type": "code",
      "execution_count": null,
      "metadata": {
        "colab": {
          "base_uri": "https://localhost:8080/"
        },
        "id": "dRXF_PUH6hVF",
        "outputId": "8b2cb853-ac1b-45b6-88e5-a9aaa2316e1e"
      },
      "outputs": [
        {
          "name": "stdout",
          "output_type": "stream",
          "text": [
            "tensor([[[0., 0.],\n",
            "         [0., 0.]],\n",
            "\n",
            "        [[0., 0.],\n",
            "         [0., 0.]],\n",
            "\n",
            "        [[0., 0.],\n",
            "         [0., 0.]]])\n"
          ]
        }
      ],
      "source": [
        "t2  = torch.zeros((3, 2, 2))\n",
        "print(t2)"
      ]
    },
    {
      "cell_type": "code",
      "execution_count": null,
      "metadata": {
        "colab": {
          "base_uri": "https://localhost:8080/"
        },
        "id": "hENpOYah6lSS",
        "outputId": "e105b82e-bc7e-45e6-e0b9-c6e2b7cbfeeb"
      },
      "outputs": [
        {
          "name": "stdout",
          "output_type": "stream",
          "text": [
            "tensor([[[1., 1.],\n",
            "         [1., 1.]],\n",
            "\n",
            "        [[1., 1.],\n",
            "         [1., 1.]],\n",
            "\n",
            "        [[1., 1.],\n",
            "         [1., 1.]]])\n",
            "tensor([[[-1., -1.],\n",
            "         [-1., -1.]],\n",
            "\n",
            "        [[-1., -1.],\n",
            "         [-1., -1.]],\n",
            "\n",
            "        [[-1., -1.],\n",
            "         [-1., -1.]]])\n",
            "tensor([[[10., 10.],\n",
            "         [10., 10.]],\n",
            "\n",
            "        [[10., 10.],\n",
            "         [10., 10.]],\n",
            "\n",
            "        [[10., 10.],\n",
            "         [10., 10.]]])\n",
            "tensor([[[0.1000, 0.1000],\n",
            "         [0.1000, 0.1000]],\n",
            "\n",
            "        [[0.1000, 0.1000],\n",
            "         [0.1000, 0.1000]],\n",
            "\n",
            "        [[0.1000, 0.1000],\n",
            "         [0.1000, 0.1000]]])\n"
          ]
        }
      ],
      "source": [
        "# pointwise operations\n",
        "print(t2 + 1)\n",
        "print(t2-1) \n",
        "print((t2+1)*10) \n",
        "print((t2+1)/10) "
      ]
    },
    {
      "cell_type": "code",
      "execution_count": null,
      "metadata": {
        "colab": {
          "base_uri": "https://localhost:8080/"
        },
        "id": "eE69wtkt6oOc",
        "outputId": "f9146495-80a9-4444-ecd9-9a21e2589a97"
      },
      "outputs": [
        {
          "name": "stdout",
          "output_type": "stream",
          "text": [
            "tensor([[19, 22],\n",
            "        [43, 50]])\n",
            "tensor([[17, 23],\n",
            "        [39, 53]])\n"
          ]
        }
      ],
      "source": [
        "# matrix multiplacations:\n",
        "x1 = torch.tensor([[1,2],\n",
        "                   [3,4]])\n",
        "x2 = torch.tensor([[5,6],\n",
        "                   [7,8]])\n",
        "print(x1.matmul(x2)) \n",
        "# or we can just use @ operator\n",
        "# computing x1 times the transpose of x2:\n",
        "print(x1 @ x2.T)"
      ]
    },
    {
      "cell_type": "code",
      "execution_count": null,
      "metadata": {
        "colab": {
          "base_uri": "https://localhost:8080/"
        },
        "id": "U1wgZiBO6p1J",
        "outputId": "83eb2d99-e0cf-4a12-84e7-5dde0e1f7304"
      },
      "outputs": [
        {
          "name": "stdout",
          "output_type": "stream",
          "text": [
            "The mean of all entries = 5.0\n",
            "The mean of dimension 0 = tensor([4., 5., 6.], dtype=torch.float64)\n",
            "The mean of dimension 1 = tensor([2., 5., 8.], dtype=torch.float64)\n"
          ]
        }
      ],
      "source": [
        "x3 = torch.tensor([  [1,2,3],\n",
        "                     [4,5,6],\n",
        "                     [7,8,9]], dtype = float)\n",
        "\n",
        "print(\"The mean of all entries = {}\".format(x3.mean()))\n",
        "print(\"The mean of dimension 0 = {}\".format(x3.mean(0)))\n",
        "print(\"The mean of dimension 1 = {}\".format(x3.mean(1)))\n",
        "# to compute the standard deviations, use std()"
      ]
    },
    {
      "cell_type": "code",
      "execution_count": 23,
      "metadata": {
        "colab": {
          "base_uri": "https://localhost:8080/"
        },
        "id": "cDSCAFSt6rju",
        "outputId": "030ff948-b9d0-4323-cfd4-5dee007ec36e"
      },
      "outputs": [
        {
          "name": "stdout",
          "output_type": "stream",
          "text": [
            "tensor([2.], dtype=torch.float64, requires_grad=True)\n"
          ]
        }
      ],
      "source": [
        "# compute differentials \n",
        "# initialize with the requires_grad option\n",
        "x = torch.tensor([2 ], dtype =float, requires_grad=True)\n",
        "print(x)"
      ]
    },
    {
      "cell_type": "code",
      "execution_count": 25,
      "metadata": {
        "colab": {
          "base_uri": "https://localhost:8080/"
        },
        "id": "Nx48ih9n6s8K",
        "outputId": "9ce5a7ca-d36e-4cac-ce0a-3f2468121739"
      },
      "outputs": [
        {
          "name": "stdout",
          "output_type": "stream",
          "text": [
            "tensor([8.], dtype=torch.float64, grad_fn=<PowBackward0>)\n",
            "tensor([24.], dtype=torch.float64)\n"
          ]
        }
      ],
      "source": [
        "y = pow(x, 3) # x^3\n",
        "y.backward()\n",
        "print(y)\n",
        "print(x.grad) # d(y)/d(x) = d(x^3)/d(x) = 3x^2 "
      ]
    },
    {
      "cell_type": "code",
      "execution_count": 26,
      "metadata": {
        "colab": {
          "base_uri": "https://localhost:8080/"
        },
        "id": "hDjJ-geU6xEZ",
        "outputId": "3318ecac-6c41-4e8a-d747-d85b59b6cb75"
      },
      "outputs": [
        {
          "name": "stdout",
          "output_type": "stream",
          "text": [
            "tensor([28.], dtype=torch.float64)\n"
          ]
        }
      ],
      "source": [
        "z = pow(x, 2) # x^2\n",
        "z.backward()\n",
        "print(x.grad) # d(y)/d(x) = d(x^2)/d(x) = 2x "
      ]
    },
    {
      "cell_type": "markdown",
      "metadata": {
        "id": "1qGRp0MQ629x"
      },
      "source": [
        "x.grad is updated to be the sum of the gradients computed so far. This is handy when training neural networks. During the backpropagation step, the sum of the gradients are summed before the weights are updated. "
      ]
    },
    {
      "cell_type": "markdown",
      "metadata": {
        "id": "R4GNKfY269pj"
      },
      "source": [
        "# **PyTorch Geometric Basics**\n"
      ]
    },
    {
      "cell_type": "markdown",
      "metadata": {
        "id": "tyM7Fo6a8H_D"
      },
      "source": [
        "1:Installing dependencies\n",
        "\n",
        "The standard colab environment does not provide the package of PyG and its dependencies.\n",
        "We need first to intsall it by the following commonds.\n",
        "\n",
        "Note: This cell might take a while (up to ~10 minutes) to run"
      ]
    },
    {
      "cell_type": "code",
      "execution_count": 3,
      "metadata": {
        "colab": {
          "base_uri": "https://localhost:8080/"
        },
        "id": "sSOq1te88LyZ",
        "outputId": "d0d561ec-5e9b-4874-acf8-19f618cf4c19"
      },
      "outputs": [
        {
          "name": "stdout",
          "output_type": "stream",
          "text": [
            "Torch has version 1.12.0+cu113\n"
          ]
        }
      ],
      "source": [
        "import torch\n",
        "print(\"Torch has version {}\".format(torch.__version__))"
      ]
    },
    {
      "cell_type": "code",
      "execution_count": 4,
      "metadata": {
        "colab": {
          "base_uri": "https://localhost:8080/"
        },
        "id": "GsaBXwqp8O_U",
        "outputId": "0c1b67b7-c4bd-49e4-9262-ff80fdf95b0c"
      },
      "outputs": [
        {
          "name": "stdout",
          "output_type": "stream",
          "text": [
            "\u001b[K     |████████████████████████████████| 7.9 MB 4.8 MB/s \n",
            "\u001b[K     |████████████████████████████████| 3.5 MB 5.0 MB/s \n",
            "\u001b[K     |████████████████████████████████| 407 kB 5.5 MB/s \n",
            "\u001b[?25h  Building wheel for torch-geometric (setup.py) ... \u001b[?25l\u001b[?25hdone\n"
          ]
        }
      ],
      "source": [
        "# Install torch geometric\n",
        "# Change the version of the pytorch by modifying the url at the end\n",
        "# For example, the output the above cell is 'Torch has version 1.11.0+cu113'，then the url is \"***torch-1.11.0+cu113.html\"\n",
        "!pip install -q torch-scatter -f https://pytorch-geometric.com/whl/torch-1.12.0+cu113.html\n",
        "!pip install -q torch-sparse -f https://pytorch-geometric.com/whl/torch-1.12.0+cu113.html\n",
        "!pip install -q torch-geometric"
      ]
    },
    {
      "cell_type": "code",
      "execution_count": 9,
      "metadata": {
        "id": "VdlxNTwN8Qzq"
      },
      "outputs": [],
      "source": [
        "import torch.nn.functional as F\n",
        "from torch_geometric.data import Data\n",
        "from torch_geometric.datasets import Planetoid\n",
        "from torch_geometric.loader import DataLoader\n",
        "from torch_geometric.nn import GCNConv\n",
        "from torch_geometric.nn import ChebConv"
      ]
    },
    {
      "cell_type": "markdown",
      "metadata": {
        "id": "j7IFdbVo9CPL"
      },
      "source": [
        "2: Example of using **Data** in PyG"
      ]
    },
    {
      "cell_type": "markdown",
      "metadata": {
        "id": "e-g1ZKhj9GGC"
      },
      "source": [
        "In tutorial 1 and Q1 of project, we use a class SimpleGraph and DirectedWeightedGraph to store the graph.\n",
        "The pyg also provide a class called 'Data' to store the graph."
      ]
    },
    {
      "cell_type": "markdown",
      "metadata": {
        "id": "z5DseUUq9LIi"
      },
      "source": [
        "![image.png](data:image/png;base64,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)"
      ]
    },
    {
      "cell_type": "code",
      "execution_count": 6,
      "metadata": {
        "id": "vbeOgX0e9Q1h"
      },
      "outputs": [],
      "source": [
        "# The connection of edge\n",
        "# for a undirected graph, use two directed edge to represent it. \n",
        "# edge_index is a tensor with shape of 2*edge_num \n",
        "edge_index = torch.tensor(\n",
        "    [\n",
        "        [0, 1, 0, 2, 1, 2, 2, 3, 4, 0, 4, 3, 5, 4],\n",
        "        [1, 0, 2, 0, 2, 1, 3, 2, 0, 4, 3, 4, 4, 5],\n",
        "    ],\n",
        "    # the type of data\n",
        "    dtype=torch.long\n",
        ")\n",
        "\n",
        "# the initial features of node\n",
        "x = torch.tensor(\n",
        "    [\n",
        "        # there are 6 nodes\n",
        "        # each node has a feature of length 2\n",
        "        [-4, 2],\n",
        "        [-1, 1],\n",
        "        [10, 8],\n",
        "        [5, 3],\n",
        "        [3, 7],\n",
        "        [7, 1],\n",
        "    ]\n",
        ")\n",
        "\n",
        "# instantiate\n",
        "data = Data(x=x, edge_index=edge_index)\n",
        "\n",
        "# There may be other attribute of Data, like y which is the label of each node for \n",
        "# node classification"
      ]
    },
    {
      "cell_type": "code",
      "execution_count": 7,
      "metadata": {
        "colab": {
          "base_uri": "https://localhost:8080/"
        },
        "id": "kM_VwTHT-0gK",
        "outputId": "6de4f40d-6724-4c76-c768-04627d1de52e"
      },
      "outputs": [
        {
          "name": "stdout",
          "output_type": "stream",
          "text": [
            "Data(x=[6, 2], edge_index=[2, 14])\n",
            "['edge_index', 'x']\n",
            "<bound method BaseStorage.values of {'x': tensor([[-4,  2],\n",
            "        [-1,  1],\n",
            "        [10,  8],\n",
            "        [ 5,  3],\n",
            "        [ 3,  7],\n",
            "        [ 7,  1]]), 'edge_index': tensor([[0, 1, 0, 2, 1, 2, 2, 3, 4, 0, 4, 3, 5, 4],\n",
            "        [1, 0, 2, 0, 2, 1, 3, 2, 0, 4, 3, 4, 4, 5]])}>\n",
            "tensor([[-4,  2],\n",
            "        [-1,  1],\n",
            "        [10,  8],\n",
            "        [ 5,  3],\n",
            "        [ 3,  7],\n",
            "        [ 7,  1]])\n",
            "tensor([[0, 1, 0, 2, 1, 2, 2, 3, 4, 0, 4, 3, 5, 4],\n",
            "        [1, 0, 2, 0, 2, 1, 3, 2, 0, 4, 3, 4, 4, 5]])\n",
            "2\n"
          ]
        }
      ],
      "source": [
        "# the whole infomation about graph\n",
        "print(data)\n",
        "\n",
        "# the key in the graph\n",
        "print(data.keys)\n",
        "print(data.values)\n",
        "\n",
        "# the feature of node\n",
        "print(data['x'])\n",
        "print(data.edge_index)\n",
        "print(data.num_node_features)"
      ]
    },
    {
      "cell_type": "markdown",
      "metadata": {
        "id": "WGTs12Ve-8Ho"
      },
      "source": [
        "# **Building Blocks of GNN**"
      ]
    },
    {
      "cell_type": "markdown",
      "metadata": {
        "id": "9pETQGwYA_gw"
      },
      "source": [
        "### Activation functions"
      ]
    },
    {
      "cell_type": "code",
      "execution_count": null,
      "metadata": {
        "colab": {
          "base_uri": "https://localhost:8080/"
        },
        "id": "K20urjeeBDQR",
        "outputId": "f4f6decc-a2e6-42fb-ce31-cf58fe8c9486"
      },
      "outputs": [
        {
          "name": "stdout",
          "output_type": "stream",
          "text": [
            "Consider this tensor: tensor([[-1.0220, -0.8221,  1.0016,  1.6851, -1.5745]])\n",
            "ReLu activation: tensor([[0.0000, 0.0000, 1.0016, 1.6851, 0.0000]])\n"
          ]
        }
      ],
      "source": [
        "# activation functions \n",
        "t4 = torch.randn(1,5)\n",
        "print(\"Consider this tensor: {}\".format(t4))\n",
        "# Relu (linear)\n",
        "m = nn.ReLU()\n",
        "activation = m(t4)\n",
        "print(\"ReLu activation: {}\".format(activation))"
      ]
    },
    {
      "cell_type": "code",
      "execution_count": null,
      "metadata": {
        "colab": {
          "base_uri": "https://localhost:8080/"
        },
        "id": "iAl3urWdBD5H",
        "outputId": "87ac473f-e5c8-4fed-eb13-df421f178039"
      },
      "outputs": [
        {
          "name": "stdout",
          "output_type": "stream",
          "text": [
            "Sigmoid activation: tensor([[0.2646, 0.3053, 0.7314, 0.8436, 0.1716]])\n"
          ]
        }
      ],
      "source": [
        "# Sigmoid (non-linear), output between 0 and 1. \n",
        "m = nn.Sigmoid()\n",
        "activation = m(t4)\n",
        "print(\"Sigmoid activation: {}\".format(activation))"
      ]
    },
    {
      "cell_type": "code",
      "execution_count": null,
      "metadata": {
        "colab": {
          "base_uri": "https://localhost:8080/"
        },
        "id": "jxyzUo_IBGfo",
        "outputId": "ef72a1b8-c70c-4dba-ce61-f77c402d7e81"
      },
      "outputs": [
        {
          "name": "stdout",
          "output_type": "stream",
          "text": [
            "Tanh activation: tensor([[-0.7707, -0.6762,  0.7623,  0.9335, -0.9177]])\n"
          ]
        }
      ],
      "source": [
        "# tanh (non-linear), output between -1 and 1. \n",
        "m = nn.Tanh()\n",
        "activation = m(t4)\n",
        "print(\"Tanh activation: {}\".format(activation))"
      ]
    },
    {
      "cell_type": "markdown",
      "metadata": {
        "id": "UGxHk4iLBexA"
      },
      "source": [
        "### Message Passing Layer"
      ]
    },
    {
      "cell_type": "code",
      "execution_count": null,
      "metadata": {
        "colab": {
          "base_uri": "https://localhost:8080/"
        },
        "id": "kOJiZx7DE4eH",
        "outputId": "3738e9a6-143a-4b11-e59c-81c67a9e7f45"
      },
      "outputs": [
        {
          "name": "stdout",
          "output_type": "stream",
          "text": [
            "tensor([[-4,  2],\n",
            "        [-1,  1],\n",
            "        [10,  8],\n",
            "        [ 5,  3],\n",
            "        [ 3,  7],\n",
            "        [ 7,  1]])\n",
            "tensor([[ 1.3378, -2.4544, -0.0251, -3.6958],\n",
            "        [ 0.9453, -1.7440, -0.0216, -2.6256],\n",
            "        [ 0.4987, -2.3780, -0.5816, -3.5020],\n",
            "        [-0.1055, -4.0463, -1.6564, -5.8644],\n",
            "        [-0.1443, -2.6864, -1.1516, -3.8861],\n",
            "        [-0.8853, -2.8320, -1.7264, -4.0243]], device='cuda:0',\n",
            "       grad_fn=<AddBackward0>)\n"
          ]
        }
      ],
      "source": [
        "# GCN\n",
        "device = torch.device('cuda' if torch.cuda.is_available() else 'cpu')\n",
        "conv = GCNConv(data.num_node_features, 4).to(device)\n",
        "x, edge_index = data.x, data.edge_index\n",
        "print(x)\n",
        "x = conv(x.to(device).float(), edge_index.to(device))\n",
        "print(x)"
      ]
    },
    {
      "cell_type": "markdown",
      "metadata": {
        "id": "g3wq_rwIBn_z"
      },
      "source": [
        "### dropout"
      ]
    },
    {
      "cell_type": "code",
      "execution_count": null,
      "metadata": {
        "colab": {
          "base_uri": "https://localhost:8080/"
        },
        "id": "XGr911h_IaFA",
        "outputId": "88e3ed42-ea70-4a43-e6f3-618bb33d6b7e"
      },
      "outputs": [
        {
          "name": "stdout",
          "output_type": "stream",
          "text": [
            "tensor([[ 1.3378, -2.4544, -0.0251, -3.6958],\n",
            "        [ 0.9453, -1.7440, -0.0216, -2.6256],\n",
            "        [ 0.4987, -2.3780, -0.5816, -3.5020],\n",
            "        [-0.1055, -4.0463, -1.6564, -5.8644],\n",
            "        [-0.1443, -2.6864, -1.1516, -3.8861],\n",
            "        [-0.8853, -2.8320, -1.7264, -4.0243]], device='cuda:0',\n",
            "       grad_fn=<AddBackward0>)\n",
            "tensor([[  2.6757,  -0.0000,  -0.0000,  -7.3915],\n",
            "        [  0.0000,  -3.4880,  -0.0000,  -5.2512],\n",
            "        [  0.0000,  -4.7560,  -1.1633,  -0.0000],\n",
            "        [ -0.0000,  -8.0925,  -0.0000, -11.7288],\n",
            "        [ -0.2885,  -5.3727,  -2.3031,  -0.0000],\n",
            "        [ -0.0000,  -5.6640,  -0.0000,  -0.0000]], device='cuda:0',\n",
            "       grad_fn=<NativeDropoutBackward0>)\n"
          ]
        }
      ],
      "source": [
        "print(x)\n",
        "x = F.dropout(x)\n",
        "print(x)"
      ]
    },
    {
      "cell_type": "markdown",
      "metadata": {
        "id": "kKlqAVTDBrnY"
      },
      "source": [
        "### log_softmax"
      ]
    },
    {
      "cell_type": "code",
      "execution_count": null,
      "metadata": {
        "colab": {
          "base_uri": "https://localhost:8080/"
        },
        "id": "IP9K4srnIx2p",
        "outputId": "44b84512-e752-430b-fac4-261a95802be6"
      },
      "outputs": [
        {
          "name": "stdout",
          "output_type": "stream",
          "text": [
            "tensor([[  2.6757,  -0.0000,  -0.0000,  -7.3915],\n",
            "        [  0.0000,  -3.4880,  -0.0000,  -5.2512],\n",
            "        [  0.0000,  -4.7560,  -1.1633,  -0.0000],\n",
            "        [ -0.0000,  -8.0925,  -0.0000, -11.7288],\n",
            "        [ -0.2885,  -5.3727,  -2.3031,  -0.0000],\n",
            "        [ -0.0000,  -5.6640,  -0.0000,  -0.0000]], device='cuda:0',\n",
            "       grad_fn=<NativeDropoutBackward0>)\n",
            "tensor([[ -0.1291,  -2.8048,  -2.8048, -10.1963],\n",
            "        [ -0.7109,  -4.1989,  -0.7109,  -5.9621],\n",
            "        [ -0.8420,  -5.5980,  -2.0053,  -0.8420],\n",
            "        [ -0.6933,  -8.7858,  -0.6933, -12.4221],\n",
            "        [ -0.9059,  -5.9900,  -2.9204,  -0.6173],\n",
            "        [ -1.0998,  -6.7638,  -1.0998,  -1.0998]], device='cuda:0',\n",
            "       grad_fn=<LogSoftmaxBackward0>)\n"
          ]
        }
      ],
      "source": [
        "print(x)\n",
        "x = F.log_softmax(x, dim=1)\n",
        "print(x)"
      ]
    },
    {
      "cell_type": "markdown",
      "metadata": {
        "id": "TGWK5lf2_Dwh"
      },
      "source": [
        "# **Pipline of Deep Learning**"
      ]
    },
    {
      "cell_type": "code",
      "execution_count": 20,
      "metadata": {
        "colab": {
          "base_uri": "https://localhost:8080/"
        },
        "id": "HyE7RieQI7x2",
        "outputId": "90e9cdeb-06aa-4a77-ba3f-3239e76ad3ff"
      },
      "outputs": [
        {
          "name": "stdout",
          "output_type": "stream",
          "text": [
            "Data(x=[2708, 1433], edge_index=[2, 10556], y=[2708], train_mask=[2708], val_mask=[2708], test_mask=[2708])\n",
            "Accuracy: 0.4530\n"
          ]
        }
      ],
      "source": [
        "dataset = Planetoid(root='/tmp/Cora', name='Cora')\n",
        "\n",
        "class GCN(torch.nn.Module):\n",
        "    def __init__(self, in_channels, out_channels):\n",
        "        super().__init__()\n",
        "        self.conv1 = GCNConv(in_channels, 16)\n",
        "        self.conv2 = ChebConv(16, out_channels, 2)\n",
        "\n",
        "    def forward(self, data):\n",
        "        x, edge_index = data.x, data.edge_index\n",
        "\n",
        "        x = self.conv1(x, edge_index)\n",
        "        activation = nn.ReLU()\n",
        "        x = activation(x)\n",
        "        x = self.conv2(x, edge_index)\n",
        "        x = F.dropout(x)\n",
        "        # try other network structure here.\n",
        "\n",
        "        return x\n",
        "\n",
        "\n",
        "# start train the model\n",
        "device = torch.device('cuda' if torch.cuda.is_available() else 'cpu')\n",
        "model = GCN(dataset.num_node_features, dataset.num_classes).to(device)\n",
        "data = dataset[0].to(device)\n",
        "print(data)\n",
        "optimizer = torch.optim.Adam(model.parameters(), lr=0.01, weight_decay=5e-4)\n",
        "\n",
        "model.train()\n",
        "for epoch in range(20):\n",
        "    optimizer.zero_grad()\n",
        "    out = model(data)\n",
        "    # try other loss function here\n",
        "    loss = F.cross_entropy(out[data.train_mask], data.y[data.train_mask])\n",
        "    loss.backward()\n",
        "    optimizer.step()\n",
        "# start evaluate the model\n",
        "model.eval()\n",
        "pred = model(data).argmax(dim=1)\n",
        "correct = (pred[data.test_mask] == data.y[data.test_mask]).sum()\n",
        "acc = int(correct) / int(data.test_mask.sum())\n",
        "print(f'Accuracy: {acc:.4f}')"
      ]
    }
  ],
  "metadata": {
    "accelerator": "GPU",
    "colab": {
      "collapsed_sections": [
        "2UbTh2Fz588K",
        "R4GNKfY269pj",
        "WGTs12Ve-8Ho",
        "9pETQGwYA_gw",
        "UGxHk4iLBexA",
        "g3wq_rwIBn_z",
        "kKlqAVTDBrnY"
      ],
      "name": "Tutorial5-inclasscode.ipynb",
      "provenance": []
    },
    "gpuClass": "standard",
    "kernelspec": {
      "display_name": "Python 3.9.12 ('base')",
      "language": "python",
      "name": "python3"
    },
    "language_info": {
      "name": "python",
      "version": "3.9.12"
    },
    "vscode": {
      "interpreter": {
        "hash": "88279d2366fe020547cde40dd65aa0e3aa662a6ec1f3ca12d88834876c85e1a6"
      }
    }
  },
  "nbformat": 4,
  "nbformat_minor": 0
}
