{
  "nbformat": 4,
  "nbformat_minor": 0,
  "metadata": {
    "colab": {
      "name": "“Q2.ipynb”的副本",
      "provenance": [],
      "collapsed_sections": []
    },
    "kernelspec": {
      "name": "python3",
      "display_name": "Python 3"
    },
    "language_info": {
      "name": "python"
    },
    "gpuClass": "standard",
    "accelerator": "GPU"
  },
  "cells": [
    {
      "cell_type": "markdown",
      "source": [
        "#COMP9312_Project_Q2: Graph Convolutional Network \n"
      ],
      "metadata": {
        "id": "LsqyDbkMzFK4"
      }
    },
    {
      "cell_type": "markdown",
      "source": [
        "\n",
        "You can edit this file and add the code to implement the model. \n",
        "\n",
        "For details about this project, please refer to the [project specification](https://cgi.cse.unsw.edu.au/~cs9312/22T2/dev/project/).\n",
        "\n",
        "**Note**: Make sure to **sequentially run all the cells in each section**, so that the intermediate variables / packages will carry over to the next cell"
      ],
      "metadata": {
        "id": "5r3WRZtH1GC9"
      }
    },
    {
      "cell_type": "markdown",
      "source": [
        "    └─Q2\n",
        "        ├─1: Installing dependencies\n",
        "        ├─2: Import the necessary package\n",
        "        ├─3: Example of using Data in PyG\n",
        "        ├─4: Download Real world dataset Cora\n",
        "        ├─5: Output some basic attribute of the dataset **You code here**\n",
        "        ├─6: Graph Convolutional Network By PyG **You code here**\n",
        "        ├─7: Graph Convolutional Network By ourselves **You code here**\n",
        "        ├─8: (optional) Another two message passing methods in PyG **You code here**"
      ],
      "metadata": {
        "id": "ADKaa3iNVGij"
      }
    },
    {
      "cell_type": "markdown",
      "source": [
        "## Q2: Graph Neural Netwroks (10 points)"
      ],
      "metadata": {
        "id": "pbBKx7SteMle"
      }
    },
    {
      "cell_type": "markdown",
      "source": [
        "[PyG](PyTorch Geometric)(https://www.pyg.org/) is an extension library for PyTorch. It provides useful primitives to develop Graph Deep Learning models, including various graph neural network layers and a large number of benchmark datasets like\n",
        "\n",
        "*   torch_geometric.nn\n",
        "*   torch_geometric.data\n",
        "\n",
        "*   torch_geometric.loader\n",
        "*   torch_geometric.transforms\n",
        "\n",
        "*   torch_geometric.utils\n",
        "\n",
        "You might need to use a GPU for this Colab to run quickly.\n",
        "\n",
        "Please click `Runtime` and then `Change runtime type`. Then set the `hardware accelerator` to **GPU**.\n",
        "\n",
        "\n",
        "\n",
        "\n",
        "\n",
        "\n",
        "\n"
      ],
      "metadata": {
        "id": "jv-qORM2sMx5"
      }
    },
    {
      "cell_type": "markdown",
      "source": [
        "### 1: Installing dependencies\n",
        "\n",
        "The standard colab environment does not provide the package of PyG and its dependencies.\n",
        "We need first to intsall it by the following commonds.\n",
        "\n",
        "Note: This cell might take a while (up to ~10 minutes) to run"
      ],
      "metadata": {
        "id": "mAXntJaUJamY"
      }
    },
    {
      "cell_type": "code",
      "source": [
        "import torch\n",
        "print(\"Torch has version {}\".format(torch.__version__))"
      ],
      "metadata": {
        "colab": {
          "base_uri": "https://localhost:8080/"
        },
        "id": "amZkvRocKyhU",
        "outputId": "5dc1ec3c-45f7-42fd-82bc-6df27b3e22c7"
      },
      "execution_count": 30,
      "outputs": [
        {
          "output_type": "stream",
          "name": "stdout",
          "text": [
            "Torch has version 1.12.0+cu113\n"
          ]
        }
      ]
    },
    {
      "cell_type": "code",
      "source": [
        "# Install torch geometric\n",
        "# Change the version of the pytorch by modifying the url at the end\n",
        "# For example, the output the above cell is 'Torch has version 1.11.0+cu113'，then the url is \"***torch-1.11.0+cu113.html\"\n",
        "!pip install -q torch-scatter -f https://pytorch-geometric.com/whl/torch-1.12.0+cu113.html\n",
        "!pip install -q torch-sparse -f https://pytorch-geometric.com/whl/torch-1.12.0+cu113.html\n",
        "!pip install -q torch-geometric"
      ],
      "metadata": {
        "id": "Cg7G43XO12RI"
      },
      "execution_count": 31,
      "outputs": []
    },
    {
      "cell_type": "markdown",
      "source": [
        "### 2: Import the necessary package"
      ],
      "metadata": {
        "id": "4qPOns7PM-gS"
      }
    },
    {
      "cell_type": "code",
      "source": [
        "import torch.nn.functional as F\n",
        "from torch_geometric.data import Data\n",
        "from torch_geometric.datasets import Planetoid\n",
        "from torch_geometric.loader import DataLoader\n",
        "from torch_geometric.nn import GCNConv\n",
        "from scipy.linalg import fractional_matrix_power"
      ],
      "metadata": {
        "id": "6iy2_WPJeMGW"
      },
      "execution_count": 32,
      "outputs": []
    },
    {
      "cell_type": "markdown",
      "source": [
        "### 3: Example of using **Data** in PyG"
      ],
      "metadata": {
        "id": "3D3rTA08NE6r"
      }
    },
    {
      "cell_type": "markdown",
      "source": [
        "In tutorial 1 and Q1 of project, we use a class SimpleGraph and DirectedWeightedGraph to store the graph.\n",
        "The pyg also provide a class called 'Data' to store the graph."
      ],
      "metadata": {
        "id": "WSkXtgnYsVd3"
      }
    },
    {
      "cell_type": "markdown",
      "source": [
        "![image.png](data:image/png;base64,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)"
      ],
      "metadata": {
        "id": "0mjF-fF80Xzn"
      }
    },
    {
      "cell_type": "code",
      "source": [
        "# The connection of edge\n",
        "# for a undirected graph, use two directed edge to represent it. \n",
        "# edge_index is a tensor with shape of 2*edge_num \n",
        "edge_index = torch.tensor(\n",
        "    [\n",
        "        [0, 1, 0, 2, 1, 2, 2, 3, 4, 0, 4, 3, 5, 4],\n",
        "        [1, 0, 2, 0, 2, 1, 3, 2, 0, 4, 3, 4, 4, 5],\n",
        "    ],\n",
        "    # the type of data\n",
        "    dtype=torch.long\n",
        ")\n",
        "\n",
        "# the initial features of node\n",
        "x = torch.tensor(\n",
        "    [\n",
        "        # there are 6 nodes\n",
        "        # each node has a feature of length 2\n",
        "        [-4, 2],\n",
        "        [-1, 1],\n",
        "        [10, 8],\n",
        "        [5, 3],\n",
        "        [3, 7],\n",
        "        [7, 1],\n",
        "    ]\n",
        ")\n",
        "\n",
        "# instantiate\n",
        "data = Data(x=x, edge_index=edge_index)\n",
        "\n",
        "# There may be other attribute of Data, like y which is the label of each node for \n",
        "# node classification"
      ],
      "metadata": {
        "id": "h_iFQpoasUzm"
      },
      "execution_count": 33,
      "outputs": []
    },
    {
      "cell_type": "markdown",
      "source": [
        "Now, we can print some infomation about the graph."
      ],
      "metadata": {
        "id": "lZof74LM1l8E"
      }
    },
    {
      "cell_type": "code",
      "source": [
        "# the whole infomation about graph\n",
        "print(data)\n",
        "\n",
        "# the key in the graph\n",
        "print(data.keys)\n",
        "print(data.values)\n",
        "\n",
        "# the feature of node\n",
        "print(data['x'])\n",
        "print(data.edge_index)\n",
        "print(data.num_node_features)"
      ],
      "metadata": {
        "colab": {
          "base_uri": "https://localhost:8080/"
        },
        "id": "llNOg2qUsTl8",
        "outputId": "df3c21bc-d70d-47a0-c980-a727f946b3b9"
      },
      "execution_count": 34,
      "outputs": [
        {
          "output_type": "stream",
          "name": "stdout",
          "text": [
            "Data(x=[6, 2], edge_index=[2, 14])\n",
            "['x', 'edge_index']\n",
            "<bound method BaseStorage.values of {'x': tensor([[-4,  2],\n",
            "        [-1,  1],\n",
            "        [10,  8],\n",
            "        [ 5,  3],\n",
            "        [ 3,  7],\n",
            "        [ 7,  1]]), 'edge_index': tensor([[0, 1, 0, 2, 1, 2, 2, 3, 4, 0, 4, 3, 5, 4],\n",
            "        [1, 0, 2, 0, 2, 1, 3, 2, 0, 4, 3, 4, 4, 5]])}>\n",
            "tensor([[-4,  2],\n",
            "        [-1,  1],\n",
            "        [10,  8],\n",
            "        [ 5,  3],\n",
            "        [ 3,  7],\n",
            "        [ 7,  1]])\n",
            "tensor([[0, 1, 0, 2, 1, 2, 2, 3, 4, 0, 4, 3, 5, 4],\n",
            "        [1, 0, 2, 0, 2, 1, 3, 2, 0, 4, 3, 4, 4, 5]])\n",
            "2\n"
          ]
        }
      ]
    },
    {
      "cell_type": "markdown",
      "source": [
        "### 4: Download Real world dataset Cora"
      ],
      "metadata": {
        "id": "K24uGTXFPHGt"
      }
    },
    {
      "cell_type": "markdown",
      "source": [
        "Use a real world dataset 'Cora' which is often used for node classfication.\n",
        "It contains one graph and the node in the graph belongs to 7 classes."
      ],
      "metadata": {
        "id": "Z0-wg63X9IyX"
      }
    },
    {
      "cell_type": "code",
      "source": [
        "dataset = Planetoid(root='/tmp/Cora', name='Cora')"
      ],
      "metadata": {
        "id": "FLmcdyyP9Hv9"
      },
      "execution_count": 35,
      "outputs": []
    },
    {
      "cell_type": "markdown",
      "source": [
        "### 5: Output some basic attribute of the dataset (3 points)"
      ],
      "metadata": {
        "id": "FSamWjDPQE8V"
      }
    },
    {
      "cell_type": "code",
      "source": [
        "# the number of graph in the dataset\n",
        "############################################################################\n",
        "# TODO: output the number of graph in Cora\n",
        "# (~1 line of code)\n",
        "############################################################################\n",
        "print(len(dataset))\n",
        "\n",
        "# the number of node of first graph in Cora\n",
        "############################################################################\n",
        "# TODO: output the number of node in the first graph of Cora\n",
        "# (~1 line of code)\n",
        "############################################################################\n",
        "cora_first = dataset[0]\n",
        "num_nodes = cora_first.num_nodes\n",
        "print(num_nodes)\n",
        "\n",
        "# the number of edges of first graph in Cora\n",
        "############################################################################\n",
        "# TODO: output the number of edges in the first graph of Cora\n",
        "# (~1 line of code)\n",
        "############################################################################\n",
        "num_edges = cora_first.num_edges\n",
        "print(num_edges)\n",
        "\n",
        "# the dimension of feature\n",
        "############################################################################\n",
        "# TODO: output dimension of node feature in the first graph of Cora\n",
        "# (~1 line of code)\n",
        "############################################################################\n",
        "feature_dim = cora_first.num_features\n",
        "print(feature_dim)\n",
        "\n",
        "# the number of classes\n",
        "############################################################################\n",
        "# TODO: output the number of classes that node of Cora belongs to.\n",
        "# (~1 line of code)\n",
        "############################################################################\n",
        "num_classes = dataset.num_classes\n",
        "print(num_classes)\n",
        "\n",
        "# check if there are isolated nodes\n",
        "############################################################################\n",
        "# TODO: check if there are isolated nodes in the first graph of Cora.\n",
        "# (~1 line of code)\n",
        "############################################################################\n",
        "isolated_node = cora_first.has_isolated_nodes()\n",
        "print(isolated_node)"
      ],
      "metadata": {
        "id": "c37DVfpp7DMJ",
        "colab": {
          "base_uri": "https://localhost:8080/"
        },
        "outputId": "734906ac-6a9c-444a-c440-fc8f364ae8d2"
      },
      "execution_count": 36,
      "outputs": [
        {
          "output_type": "stream",
          "name": "stdout",
          "text": [
            "1\n",
            "2708\n",
            "10556\n",
            "1433\n",
            "7\n",
            "False\n"
          ]
        }
      ]
    },
    {
      "cell_type": "markdown",
      "source": [
        "### 6: Graph Convolutional Network By PyG (3 points)\n",
        "\n",
        "Please follow the figure below to implement the `forward` function.\n",
        "\n",
        "Here, we use a two layer GCN model. The GCN layer is implemented by `GCNConv` which is provided by PyG."
      ],
      "metadata": {
        "id": "e3eMFiH4eRbO"
      }
    },
    {
      "cell_type": "markdown",
      "source": [
        "![image.png](data:image/png;base64,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)"
      ],
      "metadata": {
        "id": "mT7qkNl6w7FE"
      }
    },
    {
      "cell_type": "code",
      "source": [
        "class GCN(torch.nn.Module):\n",
        "    def __init__(self, in_channels, out_channels):\n",
        "        super().__init__()\n",
        "        self.conv1 = GCNConv(in_channels, 16)\n",
        "        self.conv2 = GCNConv(16, out_channels)\n",
        "\n",
        "    def forward(self, data):\n",
        "        x, edge_index = data.x, data.edge_index\n",
        "\n",
        "        ############# Your code here ############\n",
        "        ## Note:\n",
        "        ## 1. Construct the network as shown in the figure\n",
        "        ## 2. torch.nn.functional.relu and torch.nn.functional.dropout are useful\n",
        "        ## For more information please refer to the documentation:\n",
        "        ## https://pytorch.org/docs/stable/nn.functional.html\n",
        "        ## 3. Don't forget to set F.dropout training to self.training\n",
        "        ## (~5 lines of code)\n",
        "        #########################################\n",
        "        x = self.conv1(x, edge_index)\n",
        "        x = F.relu(x)\n",
        "        x = F.dropout(x)\n",
        "        x = self.conv2(x, edge_index)\n",
        "        x = F.log_softmax(x)\n",
        "\n",
        "        return x\n"
      ],
      "metadata": {
        "id": "TvEtpA2TIklZ"
      },
      "execution_count": 37,
      "outputs": []
    },
    {
      "cell_type": "code",
      "source": [
        "# start train the model\n",
        "device = torch.device('cuda' if torch.cuda.is_available() else 'cpu')\n",
        "model = GCN(dataset.num_node_features, dataset.num_classes).to(device)\n",
        "data = dataset[0].to(device)\n",
        "optimizer = torch.optim.Adam(model.parameters(), lr=0.01, weight_decay=5e-4)\n",
        "\n",
        "model.train()\n",
        "for epoch in range(20):\n",
        "    optimizer.zero_grad()\n",
        "    out = model(data)\n",
        "    loss = F.nll_loss(out[data.train_mask], data.y[data.train_mask])\n",
        "    loss.backward()\n",
        "    optimizer.step()"
      ],
      "metadata": {
        "id": "QfEV4AqDJMT1",
        "colab": {
          "base_uri": "https://localhost:8080/"
        },
        "outputId": "68167173-0f1d-42c2-86e8-699a42b7b564"
      },
      "execution_count": 38,
      "outputs": [
        {
          "output_type": "stream",
          "name": "stderr",
          "text": [
            "/usr/local/lib/python3.7/dist-packages/ipykernel_launcher.py:23: UserWarning: Implicit dimension choice for log_softmax has been deprecated. Change the call to include dim=X as an argument.\n"
          ]
        }
      ]
    },
    {
      "cell_type": "code",
      "source": [
        "# start evaluate the model\n",
        "model.eval()\n",
        "pred = model(data).argmax(dim=1)\n",
        "correct = (pred[data.test_mask] == data.y[data.test_mask]).sum()\n",
        "acc = int(correct) / int(data.test_mask.sum())\n",
        "print(f'Accuracy: {acc:.4f}')"
      ],
      "metadata": {
        "colab": {
          "base_uri": "https://localhost:8080/"
        },
        "id": "-F7wPVz-JwhI",
        "outputId": "90908758-2945-4741-fa64-60541448dd97"
      },
      "execution_count": 39,
      "outputs": [
        {
          "output_type": "stream",
          "name": "stdout",
          "text": [
            "Accuracy: 0.7240\n"
          ]
        },
        {
          "output_type": "stream",
          "name": "stderr",
          "text": [
            "/usr/local/lib/python3.7/dist-packages/ipykernel_launcher.py:23: UserWarning: Implicit dimension choice for log_softmax has been deprecated. Change the call to include dim=X as an argument.\n"
          ]
        }
      ]
    },
    {
      "cell_type": "markdown",
      "source": [
        "### 7: Graph Convolutional Networks By ourselves (4 points)"
      ],
      "metadata": {
        "id": "3KDPi2y7gT-g"
      }
    },
    {
      "cell_type": "markdown",
      "source": [
        "There are many variants of GCN formulation. Here, we use the matrix formulation of GCN as (https://openreview.net/pdf?id=SJU4ayYgl):\n",
        "\n",
        "\\begin{equation}\n",
        "X^{k+1} = \\sigma(\\hat{D}^{-\\frac{1}{2}}\\hat{A}\\hat{D}^{-\\frac{1}{2}}X^{k}\\theta)\n",
        "\\end{equation}\n",
        "\n",
        "here $\\sigma$ is the non-linear function. X is the feature matrix. $\\theta$ is the model parameters. $D\\in R^{n*n}$ is the degree matrix. $I\\in R^{n*n}$ is the identity matrix. $A\\in R^{n*n}$ is the adjacent matrix. $\\hat{D} = D+I$. And $\\hat{A} = A+I$.\n"
      ],
      "metadata": {
        "id": "LpExppNLPozP"
      }
    },
    {
      "cell_type": "code",
      "source": [
        "class Encoder(torch.nn.Module):\n",
        "  def __init__(self, in_channels, hidden_channels):\n",
        "    super(Encoder, self).__init__()\n",
        "    self.in_channels = in_channels\n",
        "    self.hidden_channels = hidden_channels\n",
        "    self.linear1 = torch.nn.Linear(in_channels, hidden_channels)\n",
        "  \n",
        "  def forward(self, x, edge_index):\n",
        "    ############# Your code here ############\n",
        "        ## Note:\n",
        "        ## 1. Construct adjacnet matrix A of the graph\n",
        "        ## 2. Calculte the degree matrix D\n",
        "        ## 3: Calculte A_hat\n",
        "        ## 4: Calculte the noramlized A_hat\n",
        "        ## 5. multiply noramlized A_hat with x and theta\n",
        "        ## np.diag, np.power, np.eye are useful\n",
        "        ## (~11 lines of code)\n",
        "    #########################################\n",
        "    n_nodes = x.shape[0]\n",
        "    A_hat = torch.zeros((n_nodes, n_nodes)) + torch.eye(n_nodes)\n",
        "    for idx in range(len(edge_index)):\n",
        "      row = edge_index[0][idx]\n",
        "      col = edge_index[1][idx]\n",
        "      A_hat[row][col] = 1\n",
        "    D_hat = torch.zeros((n_nodes, n_nodes))\n",
        "    for idx in range(n_nodes):\n",
        "      D_hat[idx, idx] += sum(A_hat[idx, :]) + sum(A_hat[:, idx]) - 1\n",
        "    normalized_D = fractional_matrix_power(D_hat, -1/2)\n",
        "    normalized_D = torch.tensor(normalized_D)\n",
        "    normalized_A = torch.matmul(normalized_D, A_hat)\n",
        "    normalized_A = torch.matmul(normalized_A, normalized_D).to(device)\n",
        "    x = torch.matmul(normalized_A, x)\n",
        "    theta = torch.transpose(self.linear1.weight, 0, 1)\n",
        "    x = torch.matmul(x, theta)\n",
        "    return x\n"
      ],
      "metadata": {
        "id": "W8lDLe27LEZg"
      },
      "execution_count": 40,
      "outputs": []
    },
    {
      "cell_type": "code",
      "source": [
        "class GCN(torch.nn.Module):\n",
        "    def __init__(self, in_channels, out_channels):\n",
        "        super().__init__()\n",
        "        self.conv1 = Encoder(in_channels, 16)\n",
        "        self.conv2 = Encoder(16, out_channels)\n",
        "\n",
        "    def forward(self, data):\n",
        "        x, edge_index = data.x, data.edge_index\n",
        "        # !!! notice here\n",
        "        # move your code in part 6 here.\n",
        "        x = self.conv1(x, edge_index)\n",
        "        x = F.relu(x)\n",
        "        x = F.dropout(x)\n",
        "        x = self.conv2(x, edge_index)\n",
        "        x = F.log_softmax(x)\n",
        "        return x\n",
        "# start train the model\n",
        "device = torch.device('cuda' if torch.cuda.is_available() else 'cpu')\n",
        "model = GCN(dataset.num_node_features, dataset.num_classes).to(device)\n",
        "data = dataset[0].to(device)\n",
        "optimizer = torch.optim.Adam(model.parameters(), lr=0.01, weight_decay=5e-4)\n",
        "\n",
        "model.train()\n",
        "for epoch in range(20):\n",
        "    optimizer.zero_grad()\n",
        "    out = model(data)\n",
        "    loss = F.nll_loss(out[data.train_mask], data.y[data.train_mask])\n",
        "    loss.backward()\n",
        "    optimizer.step()\n",
        "# start evaluate the model\n",
        "model.eval()\n",
        "pred = model(data).argmax(dim=1)\n",
        "correct = (pred[data.test_mask] == data.y[data.test_mask]).sum()\n",
        "acc = int(correct) / int(data.test_mask.sum())\n",
        "print(f'Accuracy: {acc:.4f}')"
      ],
      "metadata": {
        "colab": {
          "base_uri": "https://localhost:8080/"
        },
        "id": "DvkD82UInXw6",
        "outputId": "09245e83-656c-4c9a-ea11-d073291aaafd"
      },
      "execution_count": 41,
      "outputs": [
        {
          "output_type": "stream",
          "name": "stdout",
          "text": [
            "--------------\n"
          ]
        },
        {
          "output_type": "stream",
          "name": "stderr",
          "text": [
            "/usr/local/lib/python3.7/dist-packages/ipykernel_launcher.py:16: UserWarning: Implicit dimension choice for log_softmax has been deprecated. Change the call to include dim=X as an argument.\n",
            "  app.launch_new_instance()\n"
          ]
        },
        {
          "output_type": "stream",
          "name": "stdout",
          "text": [
            "--------------\n",
            "--------------\n",
            "--------------\n",
            "--------------\n",
            "--------------\n",
            "--------------\n",
            "--------------\n",
            "--------------\n",
            "--------------\n",
            "--------------\n",
            "--------------\n",
            "--------------\n",
            "--------------\n",
            "--------------\n",
            "--------------\n",
            "--------------\n",
            "--------------\n",
            "--------------\n",
            "--------------\n",
            "--------------\n",
            "Accuracy: 0.3700\n"
          ]
        }
      ]
    },
    {
      "cell_type": "markdown",
      "source": [
        "### 8: (Optional) Use another two methods of the message passing layer in the above GNN model.(2 points)\n",
        "We've defined a GNN class that uses GCNConvolutional layers, suggest and test th accuracy of two other variations of this GNN class that \n",
        "uses a different message passing mechanism by replacing the above GCNConv layer.\n",
        "\n",
        "You can use the function provided by PyG or implemented by yourself. \n",
        "\n",
        "Include a **short description** about the message pass layer you choose and their **accuracy**. You can write them in an seperated report or you can directly edit here.\n",
        "\n",
        "Up to 2 points for this optional question and up to 10 points for the whole Q2."
      ],
      "metadata": {
        "id": "dGpNjiLO7HKm"
      }
    }
  ]
}